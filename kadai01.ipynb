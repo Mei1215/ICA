import numpy as np
import matplotlib.pyplot as plt

def minusaverage(a):
    b=np.mean(a,1)
    for i in range(0,len(b)):
        a[i]=a[i]-b[i]
def ICAmakez(x):
    if type(x)!=np.ndarray:
        raise TypeError
    else:
        minusaverage(x)
        sigma=np.dot(x,x.T)/len(x[0])
        l,e=np.linalg.eig(sigma)
        l1=l**(-0.5)
        d1=np.diag(l1)
        v=np.dot(e,np.dot(d1,e.T))
        z=np.dot(v,x)
        return z

def normalize(w):
    w_=np.sum(w**2,1)**0.5
    for i in range(0,len(w)):
        w[i]=w[i]/w_[i]
    return w
        

def ICAmakew(w,z):
    w = normalize(w)
    c = 0
    while c != 1:        
        oldw = w
        w = np.dot(z,(np.dot(oldw,z)**3).T).T/len(z[0])-3*oldw
        w = normalize(w)
        if w[0][0]<0:
            w*=-1
        if np.sqrt(np.sum((w-oldw)*(w-oldw)))<0.01:
            c = 1
    return w
def ICA(x):
    z=ICAmakez(x)
    w=np.array([[1,0],[0,1]])
    w=ICAmakew(w,z)
    print(w)
    y=np.dot(w,z)
    plt.plot(y[0])
    plt.plot(y[1])
    return y

data1=np.loadtxt('data/dat1.txt')
data2=np.loadtxt('data/dat2.txt')
x=np.array([data1,data2])
y=ICA(x)
#y[0]とy[1]が求める二つの信号源である
