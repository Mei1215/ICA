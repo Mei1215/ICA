import numpy as np
import matplotlib.pyplot as plt
from scipy.io.wavfile import read
from scipy.io.wavfile import write


def minusaverage(a):
    b=np.mean(a,1)
    for i in range(0,len(b)):
        a[i]=a[i]-b[i]#aの型が整数だと0落ちすることに注意

def ICAmakez(x):
    if type(x)!=np.ndarray:
        raise TypeError
    else:
        minusaverage(x)
        sigma=np.dot(x,x.T)/len(x[0])
        l,e=np.linalg.eig(sigma)
        l1=l**(-0.5)
        d1=np.diag(l1)
        v=np.dot(e,np.dot(d1,e.T))
        z=np.dot(v,x)
        return z

def normalize(w):
    w_=np.sum(w**2,1)**0.5
    for i in range(0,len(w)):
        w[i]=w[i]/w_[i]#wの型がせいすうになってしまって、0落ちに注意
    return w
        

def ICAmakew(w,z):
    w = normalize(w)
    c = 0
    while c != 1:        
        oldw = w
        w = np.dot(z,(np.dot(oldw,z)**3).T).T/len(z[0])-3*oldw
        w = normalize(w)
        if w[0][0]<0:
            w*=-1
        #print(w)
        if np.sqrt(np.sum((w-oldw)*(w-oldw)))<0.0001:
            c = 1
    return w

def ICA_speech(x,w):
    z=ICAmakez(x)
    w=np.array(w).astype(np.float32)
    w=ICAmakew(w,z)
    print(w)
    y=np.dot(w,z)
    plt.plot(y[0])
    plt.plot(y[1])
    return y

rate1,data1=read('data/speechA1.wav')
rate2,data2=read('data/speechA2.wav')
data1=data1.astype(np.float32)
data2=data2.astype(np.float32)
x=np.array([data1,data2])
plt.plot(x[0])
plt.plot(x[1])

w=[[1,0],[0,1]]
y=ICA_speech(x,w)
y=ICA_speech(x,w)
y1=y[0]*1000
y2=y[1]*1000


write('kadai/originalA1.wav',rate1,y1.astype(np.int16))
write('kadai/originalA2.wav',rate1,y2.astype(np.int16))
#y1とy2が音源である
