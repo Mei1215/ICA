import numpy as np
import matplotlib.pyplot as plt
from scipy.io.wavfile import read
from scipy.io.wavfile import write
from PIL import Image
def minmax(x):
    mi=x.min()
    ma=x.max()
    result=(x-mi)/(ma-mi)
    return result

def minusaverage(a):
    b=np.mean(a,1)
    for i in range(0,len(b)):
        a[i]=a[i]-b[i]#aの型が整数だと0落ちすることに注意

def ICAmakez(x):
    if type(x)!=np.ndarray:
        raise TypeError
    else:
        minusaverage(x)
        sigma=np.dot(x,x.T)/len(x[0])
        l,e=np.linalg.eig(sigma)
        l1=l**(-0.5)
        d1=np.diag(l1)
        v=np.dot(e,np.dot(d1,e.T))
        z=np.dot(v,x)
        return z

def normalize(w):
    w_=np.sum(w**2,1)**0.5
    for i in range(0,len(w)):
        w[i]=w[i]/w_[i]#wの型がせいすうになってしまって、0落ちに注意
    return w
        

def ICAmakew(w,z):
    w = normalize(w)
    c = 0
    while c != 1:        
        oldw = w
        w = np.dot(z,(np.dot(oldw,z)**3).T).T/len(z[0])-3*oldw
        w = normalize(w)
        if w[0][0]<0:
            w*=-1
        #print(w)
        if np.sqrt(np.sum((w-oldw)*(w-oldw)))<0.0001:
            c = 1
    return w

def ICA_music(x,w):
    z=ICAmakez(x)
    w=np.array(w).astype(np.float32)
    w=ICAmakew(w,z)
    print(w)
    y=np.dot(w,z)
    plt.plot(y[0])
    plt.plot(y[1])
    return y

data1=np.array(Image.open('data/image1.png').convert('L'))
data2=np.array(Image.open('data/image2.png').convert('L'))
data1=data1.flatten()
data2=data2.flatten()
data1=data1.astype(np.float32)
data2=data2.astype(np.float32)
x=np.array([data1,data2])

w=[[1,0],[0,1]]
y=ICA_music(x,w)
y[0]=minmax(y[0])*255
y[1]=minmax(y[1])*255
y1=y[0].reshape(512,-1)
y2=y[1].reshape(512,-1)
y1=y1.astype(np.uint8)
y2=y2.astype(np.uint8)
Image.fromarray(y1).save('kadai/original1.png')
Image.fromarray(y2).save('kadai/original2.png')
#画像は分離された
